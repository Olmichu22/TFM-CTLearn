{
 "cells": [
  {
   "cell_type": "code",
   "execution_count": 1,
   "metadata": {},
   "outputs": [
    {
     "name": "stderr",
     "output_type": "stream",
     "text": [
      "2024-07-10 12:58:47.157471: I tensorflow/core/util/port.cc:111] oneDNN custom operations are on. You may see slightly different numerical results due to floating-point round-off errors from different computation orders. To turn them off, set the environment variable `TF_ENABLE_ONEDNN_OPTS=0`.\n",
      "2024-07-10 12:58:47.191292: E tensorflow/compiler/xla/stream_executor/cuda/cuda_dnn.cc:9342] Unable to register cuDNN factory: Attempting to register factory for plugin cuDNN when one has already been registered\n",
      "2024-07-10 12:58:47.191322: E tensorflow/compiler/xla/stream_executor/cuda/cuda_fft.cc:609] Unable to register cuFFT factory: Attempting to register factory for plugin cuFFT when one has already been registered\n",
      "2024-07-10 12:58:47.191336: E tensorflow/compiler/xla/stream_executor/cuda/cuda_blas.cc:1518] Unable to register cuBLAS factory: Attempting to register factory for plugin cuBLAS when one has already been registered\n",
      "2024-07-10 12:58:47.196894: I tensorflow/core/platform/cpu_feature_guard.cc:182] This TensorFlow binary is optimized to use available CPU instructions in performance-critical operations.\n",
      "To enable the following instructions: AVX2 AVX512F AVX512_VNNI FMA, in other operations, rebuild TensorFlow with the appropriate compiler flags.\n",
      "2024-07-10 12:58:48.043598: W tensorflow/compiler/tf2tensorrt/utils/py_utils.cc:38] TF-TRT Warning: Could not find TensorRT\n"
     ]
    }
   ],
   "source": [
    "from dl1_data_handler.reader import DL1DataReaderSTAGE1, DL1DataReaderDL1DH\n",
    "from ctlearn.utils import setup_DL1DataReader\n",
    "from ctlearn.data_loader import KerasBatchGenerator\n",
    "from preprocessing import ImagetoPointCloud\n",
    "\n",
    "import h5py\n",
    "import yaml"
   ]
  },
  {
   "cell_type": "code",
   "execution_count": 7,
   "metadata": {},
   "outputs": [],
   "source": [
    "with open('sample_config.yml', 'r') as myconfig:\n",
    "  config = yaml.load(myconfig, Loader=yaml.Loader)\n",
    "config[\"Data\"], data_format = setup_DL1DataReader(config, \"train\")\n",
    "reader = DL1DataReaderSTAGE1(**config[\"Data\"])\n",
    "data_len = len(reader)\n",
    "indices = list(range(data_len))\n",
    "\n",
    "all_data = KerasBatchGenerator(\n",
    "    reader,\n",
    "    indices,\n",
    "    batch_size=1,\n",
    "    mode=\"train\",\n",
    "    class_names=None,\n",
    "    stack_telescope_images=False,\n",
    ")"
   ]
  },
  {
   "cell_type": "code",
   "execution_count": 17,
   "metadata": {},
   "outputs": [
    {
     "name": "stdout",
     "output_type": "stream",
     "text": [
      "[[1. 0.]]\n",
      "{'images': array([[[[0., 0.],\n",
      "         [0., 0.],\n",
      "         [0., 0.],\n",
      "         ...,\n",
      "         [0., 0.],\n",
      "         [0., 0.],\n",
      "         [0., 0.]],\n",
      "\n",
      "        [[0., 0.],\n",
      "         [0., 0.],\n",
      "         [0., 0.],\n",
      "         ...,\n",
      "         [0., 0.],\n",
      "         [0., 0.],\n",
      "         [0., 0.]],\n",
      "\n",
      "        [[0., 0.],\n",
      "         [0., 0.],\n",
      "         [0., 0.],\n",
      "         ...,\n",
      "         [0., 0.],\n",
      "         [0., 0.],\n",
      "         [0., 0.]],\n",
      "\n",
      "        ...,\n",
      "\n",
      "        [[0., 0.],\n",
      "         [0., 0.],\n",
      "         [0., 0.],\n",
      "         ...,\n",
      "         [0., 0.],\n",
      "         [0., 0.],\n",
      "         [0., 0.]],\n",
      "\n",
      "        [[0., 0.],\n",
      "         [0., 0.],\n",
      "         [0., 0.],\n",
      "         ...,\n",
      "         [0., 0.],\n",
      "         [0., 0.],\n",
      "         [0., 0.]],\n",
      "\n",
      "        [[0., 0.],\n",
      "         [0., 0.],\n",
      "         [0., 0.],\n",
      "         ...,\n",
      "         [0., 0.],\n",
      "         [0., 0.],\n",
      "         [0., 0.]]]])}\n"
     ]
    }
   ],
   "source": [
    "image, labels = all_data.__getitem__(4)\n",
    "# print(image)\n",
    "print(labels)\n",
    "print(image)\n"
   ]
  },
  {
   "cell_type": "code",
   "execution_count": 18,
   "metadata": {},
   "outputs": [
    {
     "name": "stdout",
     "output_type": "stream",
     "text": [
      "Dataset guardado exitosamente en dataset_500_rel_coords.h5\n"
     ]
    }
   ],
   "source": [
    "max_points = 500\n",
    "relative_coords = True\n",
    "img_to_pct = ImagetoPointCloud(max_points, relative_coords)\n",
    "name = \"dataset_500_rel_coords.h5\"\n",
    "with h5py.File(f'../data/{name}', 'w') as f:\n",
    "  for i in range(data_len):\n",
    "    image, labels = all_data.__getitem__(i)\n",
    "    # print(image)\n",
    "    image = image[\"images\"][0,:,:,:]\n",
    "    labels = labels[0]\n",
    "    point_cloud = img_to_pct(image)\n",
    "    grp = f.create_group(f'instance_{i}')\n",
    "    grp.create_dataset('features', data=point_cloud[\"features\"])\n",
    "    grp.create_dataset('points', data=point_cloud[\"points\"])\n",
    "    grp.create_dataset('mask', data=point_cloud[\"mask\"])\n",
    "    grp.attrs['label'] = labels\n",
    "\n",
    "print(f\"Dataset guardado exitosamente en {name}\")"
   ]
  }
 ],
 "metadata": {
  "kernelspec": {
   "display_name": "ctlearn-cluster",
   "language": "python",
   "name": "python3"
  },
  "language_info": {
   "codemirror_mode": {
    "name": "ipython",
    "version": 3
   },
   "file_extension": ".py",
   "mimetype": "text/x-python",
   "name": "python",
   "nbconvert_exporter": "python",
   "pygments_lexer": "ipython3",
   "version": "3.10.0"
  }
 },
 "nbformat": 4,
 "nbformat_minor": 2
}
